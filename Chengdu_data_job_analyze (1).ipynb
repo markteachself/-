{
 "cells": [
  {
   "cell_type": "code",
   "execution_count": 95,
   "metadata": {
    "collapsed": true
   },
   "outputs": [],
   "source": [
    "import pandas as pd\n",
    "import numpy as np\n",
    "import matplotlib.pyplot as plt"
   ]
  },
  {
   "cell_type": "code",
   "execution_count": 96,
   "metadata": {
    "collapsed": true
   },
   "outputs": [],
   "source": [
    "df = pd.read_csv('C:\\\\Users\\\\Mark\\\\Desktop\\\\CDA\\\\chengdu data job\\\\lagou_chengdu_job.csv')"
   ]
  },
  {
   "cell_type": "code",
   "execution_count": 97,
   "metadata": {},
   "outputs": [
    {
     "data": {
      "text/html": [
       "<div>\n",
       "<style>\n",
       "    .dataframe thead tr:only-child th {\n",
       "        text-align: right;\n",
       "    }\n",
       "\n",
       "    .dataframe thead th {\n",
       "        text-align: left;\n",
       "    }\n",
       "\n",
       "    .dataframe tbody tr th {\n",
       "        vertical-align: top;\n",
       "    }\n",
       "</style>\n",
       "<table border=\"1\" class=\"dataframe\">\n",
       "  <thead>\n",
       "    <tr style=\"text-align: right;\">\n",
       "      <th></th>\n",
       "      <th>职位</th>\n",
       "      <th>区域</th>\n",
       "      <th>公司</th>\n",
       "      <th>薪资</th>\n",
       "      <th>工作经验</th>\n",
       "      <th>企业规模</th>\n",
       "      <th>企业福利</th>\n",
       "      <th>职位关键词1</th>\n",
       "      <th>职位关键词2</th>\n",
       "      <th>职位关键词3</th>\n",
       "      <th>职位关键词4</th>\n",
       "      <th>职位关键词5</th>\n",
       "      <th>职位关键词6</th>\n",
       "    </tr>\n",
       "  </thead>\n",
       "  <tbody>\n",
       "    <tr>\n",
       "      <th>0</th>\n",
       "      <td>全国大客户销售总监，金数据(成都)</td>\n",
       "      <td>武侯区</td>\n",
       "      <td>AdMaster</td>\n",
       "      <td>13k-25k</td>\n",
       "      <td>13k-25k                        经验5-10年 / 大专</td>\n",
       "      <td>数据服务 / 不需要融资 / 500-2000人</td>\n",
       "      <td>“发展前景好；福利待遇好”</td>\n",
       "      <td>企业服务</td>\n",
       "      <td>工具软件</td>\n",
       "      <td>大客户代表</td>\n",
       "      <td>目标管理</td>\n",
       "      <td>NaN</td>\n",
       "      <td>NaN</td>\n",
       "    </tr>\n",
       "    <tr>\n",
       "      <th>1</th>\n",
       "      <td>大数据工程师</td>\n",
       "      <td>高新区</td>\n",
       "      <td>成都国璀科技有限公司</td>\n",
       "      <td>15k-25k</td>\n",
       "      <td>15k-25k                        经验5-10年 / 本科</td>\n",
       "      <td>移动互联网,电子商务 / 不需要融资 / 50-150人</td>\n",
       "      <td>“晋升、带薪年休、旅游、福利体检、节日福利”</td>\n",
       "      <td>Spark</td>\n",
       "      <td>数据挖掘</td>\n",
       "      <td>数据仓库</td>\n",
       "      <td>数据分析</td>\n",
       "      <td>NaN</td>\n",
       "      <td>NaN</td>\n",
       "    </tr>\n",
       "    <tr>\n",
       "      <th>2</th>\n",
       "      <td>JAVA工程师 - 成都 - 大数据/容器相关</td>\n",
       "      <td>高新区</td>\n",
       "      <td>四川长虹电器股份有限公司</td>\n",
       "      <td>9k-15k</td>\n",
       "      <td>9k-15k                        经验3-5年 / 本科</td>\n",
       "      <td>硬件 / 上市公司 / 2000人以上</td>\n",
       "      <td>“五险一金,带薪年假”</td>\n",
       "      <td>绩效奖金</td>\n",
       "      <td>管理规范</td>\n",
       "      <td>定期体检</td>\n",
       "      <td>五险一金</td>\n",
       "      <td>NaN</td>\n",
       "      <td>NaN</td>\n",
       "    </tr>\n",
       "    <tr>\n",
       "      <th>3</th>\n",
       "      <td>软件工程师 - 大数据方向</td>\n",
       "      <td>高新区</td>\n",
       "      <td>大地量子</td>\n",
       "      <td>15k-25k</td>\n",
       "      <td>15k-25k                        经验3-5年 / 本科</td>\n",
       "      <td>数据服务 / 天使轮 / 15-50人</td>\n",
       "      <td>“氛围好,前沿科技,福利多多,人nice”</td>\n",
       "      <td>Spark</td>\n",
       "      <td>Hadoop</td>\n",
       "      <td>Scala</td>\n",
       "      <td>NaN</td>\n",
       "      <td>NaN</td>\n",
       "      <td>NaN</td>\n",
       "    </tr>\n",
       "    <tr>\n",
       "      <th>4</th>\n",
       "      <td>生物信息工程师/基因数据分析师 （流程维护/数据质</td>\n",
       "      <td>高新区</td>\n",
       "      <td>23魔方</td>\n",
       "      <td>15k-30k</td>\n",
       "      <td>15k-30k                        经验3-5年 / 硕士</td>\n",
       "      <td>医疗健康,数据服务 / B轮 / 50-150人</td>\n",
       "      <td>“六险一金,免费下午茶,期权激励,行业前景好”</td>\n",
       "      <td>年度旅游</td>\n",
       "      <td>弹性工作</td>\n",
       "      <td>六险一金</td>\n",
       "      <td>定期体检</td>\n",
       "      <td>NaN</td>\n",
       "      <td>NaN</td>\n",
       "    </tr>\n",
       "  </tbody>\n",
       "</table>\n",
       "</div>"
      ],
      "text/plain": [
       "                          职位   区域            公司       薪资  \\\n",
       "0          全国大客户销售总监，金数据(成都)  武侯区      AdMaster  13k-25k   \n",
       "1                     大数据工程师  高新区    成都国璀科技有限公司  15k-25k   \n",
       "2    JAVA工程师 - 成都 - 大数据/容器相关  高新区  四川长虹电器股份有限公司   9k-15k   \n",
       "3              软件工程师 - 大数据方向  高新区          大地量子  15k-25k   \n",
       "4  生物信息工程师/基因数据分析师 （流程维护/数据质  高新区          23魔方  15k-30k   \n",
       "\n",
       "                                          工作经验                          企业规模  \\\n",
       "0  13k-25k                        经验5-10年 / 大专      数据服务 / 不需要融资 / 500-2000人   \n",
       "1  15k-25k                        经验5-10年 / 本科  移动互联网,电子商务 / 不需要融资 / 50-150人   \n",
       "2    9k-15k                        经验3-5年 / 本科           硬件 / 上市公司 / 2000人以上   \n",
       "3   15k-25k                        经验3-5年 / 本科           数据服务 / 天使轮 / 15-50人   \n",
       "4   15k-30k                        经验3-5年 / 硕士      医疗健康,数据服务 / B轮 / 50-150人   \n",
       "\n",
       "                      企业福利 职位关键词1  职位关键词2 职位关键词3 职位关键词4 职位关键词5 职位关键词6  \n",
       "0            “发展前景好；福利待遇好”   企业服务    工具软件  大客户代表   目标管理    NaN    NaN  \n",
       "1   “晋升、带薪年休、旅游、福利体检、节日福利”  Spark    数据挖掘   数据仓库   数据分析    NaN    NaN  \n",
       "2              “五险一金,带薪年假”   绩效奖金    管理规范   定期体检   五险一金    NaN    NaN  \n",
       "3    “氛围好,前沿科技,福利多多,人nice”  Spark  Hadoop  Scala    NaN    NaN    NaN  \n",
       "4  “六险一金,免费下午茶,期权激励,行业前景好”   年度旅游    弹性工作   六险一金   定期体检    NaN    NaN  "
      ]
     },
     "execution_count": 97,
     "metadata": {},
     "output_type": "execute_result"
    }
   ],
   "source": [
    "df.head(5)"
   ]
  },
  {
   "cell_type": "markdown",
   "metadata": {},
   "source": [
    "data clean"
   ]
  },
  {
   "cell_type": "code",
   "execution_count": 98,
   "metadata": {},
   "outputs": [
    {
     "name": "stdout",
     "output_type": "stream",
     "text": [
      "<class 'pandas.core.frame.DataFrame'>\n",
      "RangeIndex: 324 entries, 0 to 323\n",
      "Data columns (total 13 columns):\n",
      "职位        324 non-null object\n",
      "区域        324 non-null object\n",
      "公司        324 non-null object\n",
      "薪资        324 non-null object\n",
      "工作经验      324 non-null object\n",
      "企业规模      324 non-null object\n",
      "企业福利      324 non-null object\n",
      "职位关键词1    322 non-null object\n",
      "职位关键词2    253 non-null object\n",
      "职位关键词3    184 non-null object\n",
      "职位关键词4    113 non-null object\n",
      "职位关键词5    38 non-null object\n",
      "职位关键词6    14 non-null object\n",
      "dtypes: object(13)\n",
      "memory usage: 33.0+ KB\n"
     ]
    }
   ],
   "source": [
    "df.info()"
   ]
  },
  {
   "cell_type": "markdown",
   "metadata": {},
   "source": [
    "区域"
   ]
  },
  {
   "cell_type": "code",
   "execution_count": 99,
   "metadata": {},
   "outputs": [
    {
     "data": {
      "text/plain": [
       "高新区     192\n",
       "武侯区      28\n",
       "锦江区      17\n",
       "玉林        8\n",
       "春熙路       7\n",
       "桂溪        5\n",
       "青羊区       4\n",
       "中和        4\n",
       "石羊        4\n",
       "成都        4\n",
       "火车南站      4\n",
       "跳伞塔       4\n",
       "犀浦        3\n",
       "华阳        3\n",
       "柳江        3\n",
       "建设路       3\n",
       "金泉        3\n",
       "天府广场      3\n",
       "盐市口       2\n",
       "金牛区       2\n",
       "四川大学      2\n",
       "牛王庙       2\n",
       "三圣        2\n",
       "光华        2\n",
       "双流区       2\n",
       "九眼桥       1\n",
       "红牌楼       1\n",
       "创业路       1\n",
       "沙河源       1\n",
       "圣灯        1\n",
       "沙湾        1\n",
       "成华区       1\n",
       "青羊大道      1\n",
       "郫县        1\n",
       "科华北路      1\n",
       "肖家河       1\n",
       "Name: 区域, dtype: int64"
      ]
     },
     "execution_count": 99,
     "metadata": {},
     "output_type": "execute_result"
    }
   ],
   "source": [
    "df['区域'].value_counts()"
   ]
  },
  {
   "cell_type": "code",
   "execution_count": 100,
   "metadata": {
    "collapsed": true
   },
   "outputs": [],
   "source": [
    "area_mapDict = {\n",
    "                    \"玉林\":       \"武侯区\",\n",
    "                    \"春熙路\":        \"锦江区\",\n",
    "                    \"桂溪\":      \"武侯区\",\n",
    "                    \"中和\":   \"双流区\",\n",
    "                    \"石羊\":        \"武侯区\",\n",
    "                    \"火车南站\" :       \"武侯区\",\n",
    "                    \"跳伞塔\":         \"武侯区\",\n",
    "                    \"建设路\":        \"成华区\",\n",
    "                    \"天府广场\": \"青羊区\",\n",
    "                    \"犀浦\":       \"郫都区\",\n",
    "                    \"金泉\":        \"金牛区\",\n",
    "                    \"柳江\":       \"锦江区\",\n",
    "                    \"盐市口\":         \"锦江区\",\n",
    "                    \"牛王庙\" :        \"锦江区\",\n",
    "                    \"三圣 \" :       \"锦江区\",\n",
    "                    \"光华 \" :      \"青羊区\",\n",
    "                    \"红牌楼\" :    \"武侯区\",\n",
    "                    \"青羊大道\" :      \"青羊区\",\n",
    "                    \"沙湾\" :      \"金牛区\",\n",
    "                    \"科华北路\" :      \"武侯区\",\n",
    "                    \"肖家河\" :      \"武侯区\",\n",
    "                    \"沙河源\" :      \"金牛区\",\n",
    "                    \"郫县\" :      \"郫都区\",\n",
    "                    \"圣灯  \" :      \"成华区\",\n",
    "                    \"创业路\" :    \"武侯区\",\n",
    "                    \"九眼桥\" :      \"武侯区\",\n",
    "                    \"高新区\" :      \"高新区\",\n",
    "                    \"武侯区\" :      \"武侯区\",\n",
    "                    \"锦江区\" :      \"锦江区\",\n",
    "                    \"青羊区\" :      \"青羊区\",\n",
    "                    \"双流区\" :      \"双流区\",\n",
    "                    \"金牛区\" :      \"金牛区\",\n",
    "                    \"成华区\" :      \"成华区\"\n",
    "                    }"
   ]
  },
  {
   "cell_type": "code",
   "execution_count": 101,
   "metadata": {
    "collapsed": true
   },
   "outputs": [],
   "source": [
    "df['area'] = df['区域'].map(area_mapDict)"
   ]
  },
  {
   "cell_type": "code",
   "execution_count": 102,
   "metadata": {},
   "outputs": [
    {
     "data": {
      "text/plain": [
       "高新区    192\n",
       "武侯区     58\n",
       "锦江区     31\n",
       "青羊区      8\n",
       "金牛区      7\n",
       "双流区      6\n",
       "郫都区      4\n",
       "成华区      4\n",
       "Name: area, dtype: int64"
      ]
     },
     "execution_count": 102,
     "metadata": {},
     "output_type": "execute_result"
    }
   ],
   "source": [
    "df['area'].value_counts()"
   ]
  },
  {
   "cell_type": "markdown",
   "metadata": {},
   "source": [
    "学历"
   ]
  },
  {
   "cell_type": "code",
   "execution_count": 103,
   "metadata": {
    "collapsed": true
   },
   "outputs": [],
   "source": [
    "def get_degree(degree):\n",
    "    str1 = degree.split('/')[1]\n",
    "    str2 = str1.strip()\n",
    "    return str2"
   ]
  },
  {
   "cell_type": "code",
   "execution_count": 104,
   "metadata": {
    "collapsed": true
   },
   "outputs": [],
   "source": [
    "df['degree'] = df['工作经验'].apply(get_degree)"
   ]
  },
  {
   "cell_type": "code",
   "execution_count": 105,
   "metadata": {},
   "outputs": [
    {
     "data": {
      "text/plain": [
       "本科    250\n",
       "大专     35\n",
       "不限     21\n",
       "硕士     18\n",
       "Name: degree, dtype: int64"
      ]
     },
     "execution_count": 105,
     "metadata": {},
     "output_type": "execute_result"
    }
   ],
   "source": [
    "df['degree'].value_counts()"
   ]
  },
  {
   "cell_type": "markdown",
   "metadata": {},
   "source": [
    "工作经历"
   ]
  },
  {
   "cell_type": "code",
   "execution_count": 106,
   "metadata": {
    "collapsed": true
   },
   "outputs": [],
   "source": [
    "def get_experience(experience):\n",
    "    str1 = experience.split('经验')[1]\n",
    "    str2 = str1.split('/')[0]\n",
    "    str3 = str2.strip()\n",
    "    return str3"
   ]
  },
  {
   "cell_type": "code",
   "execution_count": 107,
   "metadata": {
    "collapsed": true
   },
   "outputs": [],
   "source": [
    "df['experience'] = df['工作经验'].apply(get_experience)"
   ]
  },
  {
   "cell_type": "code",
   "execution_count": 108,
   "metadata": {},
   "outputs": [
    {
     "data": {
      "text/plain": [
       "3-5年     139\n",
       "1-3年      83\n",
       "5-10年     43\n",
       "不限        41\n",
       "应届毕业生     11\n",
       "1年以下       6\n",
       "10年以上      1\n",
       "Name: experience, dtype: int64"
      ]
     },
     "execution_count": 108,
     "metadata": {},
     "output_type": "execute_result"
    }
   ],
   "source": [
    "df['experience'].value_counts()"
   ]
  },
  {
   "cell_type": "markdown",
   "metadata": {},
   "source": [
    "行业"
   ]
  },
  {
   "cell_type": "code",
   "execution_count": 109,
   "metadata": {
    "collapsed": true
   },
   "outputs": [],
   "source": [
    "def get_industry(industry):\n",
    "    str1 = industry.split('/')[0]\n",
    "    return str1"
   ]
  },
  {
   "cell_type": "code",
   "execution_count": 110,
   "metadata": {
    "collapsed": true
   },
   "outputs": [],
   "source": [
    "df['industry_all'] = df['企业规模'].apply(get_industry)"
   ]
  },
  {
   "cell_type": "code",
   "execution_count": 111,
   "metadata": {},
   "outputs": [
    {
     "data": {
      "text/plain": [
       "'移动互联网,电子商务 '"
      ]
     },
     "execution_count": 111,
     "metadata": {},
     "output_type": "execute_result"
    }
   ],
   "source": [
    "df['industry_all'][1]"
   ]
  },
  {
   "cell_type": "code",
   "execution_count": 116,
   "metadata": {
    "collapsed": true
   },
   "outputs": [],
   "source": [
    "import re    # re.split  多个分隔符的拆分\n",
    "def get_industry3(word):\n",
    "    new_list  = []\n",
    "    for i in word:\n",
    "        content = re.split(',| |、',i)\n",
    "        for j in content:\n",
    "            new_list.append(j)\n",
    "    return new_list"
   ]
  },
  {
   "cell_type": "code",
   "execution_count": null,
   "metadata": {
    "collapsed": true
   },
   "outputs": [],
   "source": []
  },
  {
   "cell_type": "code",
   "execution_count": 117,
   "metadata": {
    "collapsed": true
   },
   "outputs": [],
   "source": [
    "indu_list = df['industry_all']"
   ]
  },
  {
   "cell_type": "code",
   "execution_count": 118,
   "metadata": {
    "collapsed": true
   },
   "outputs": [],
   "source": [
    "indu_list1 = list(indu_list)"
   ]
  },
  {
   "cell_type": "code",
   "execution_count": 119,
   "metadata": {},
   "outputs": [],
   "source": [
    "indu_list2 = get_industry3(indu_list1)"
   ]
  },
  {
   "cell_type": "code",
   "execution_count": 129,
   "metadata": {
    "collapsed": true
   },
   "outputs": [],
   "source": [
    "indu_list3 = pd.Series(indu_list2)"
   ]
  },
  {
   "cell_type": "code",
   "execution_count": null,
   "metadata": {},
   "outputs": [],
   "source": [
    "indu_list4 = list(indu_list3)"
   ]
  },
  {
   "cell_type": "code",
   "execution_count": 131,
   "metadata": {},
   "outputs": [],
   "source": [
    "while '' in indu_list4:\n",
    "    indu_list4.remove('')"
   ]
  },
  {
   "cell_type": "code",
   "execution_count": 134,
   "metadata": {},
   "outputs": [
    {
     "data": {
      "text/plain": [
       "['数据服务',\n",
       " '移动互联网',\n",
       " '电子商务',\n",
       " '硬件',\n",
       " '数据服务',\n",
       " '医疗健康',\n",
       " '数据服务',\n",
       " '电子商务',\n",
       " '信息安全',\n",
       " '其他',\n",
       " '电子商务',\n",
       " '硬件',\n",
       " '金融',\n",
       " '教育',\n",
       " '移动互联网',\n",
       " '其他',\n",
       " '移动互联网',\n",
       " '金融',\n",
       " '金融',\n",
       " '移动互联网',\n",
       " '数据服务',\n",
       " '电子商务',\n",
       " '其他',\n",
       " '金融',\n",
       " '移动互联网',\n",
       " '企业服务',\n",
       " '移动互联网',\n",
       " '电子商务',\n",
       " '移动互联网',\n",
       " '移动互联网',\n",
       " '数据服务',\n",
       " '电子商务',\n",
       " '企业服务',\n",
       " '数据服务',\n",
       " '金融',\n",
       " '企业服务',\n",
       " '移动互联网',\n",
       " '其他',\n",
       " '移动互联网',\n",
       " '硬件',\n",
       " '移动互联网',\n",
       " '电子商务',\n",
       " '企业服务',\n",
       " '数据服务',\n",
       " '数据服务',\n",
       " '移动互联网',\n",
       " '企业服务',\n",
       " '金融',\n",
       " '移动互联网',\n",
       " '移动互联网',\n",
       " '医疗健康',\n",
       " '移动互联网',\n",
       " '其他',\n",
       " '移动互联网',\n",
       " '电子商务',\n",
       " '电子商务',\n",
       " '数据服务',\n",
       " 'O2O',\n",
       " '企业服务',\n",
       " '数据服务',\n",
       " '数据服务',\n",
       " '金融',\n",
       " '企业服务',\n",
       " '数据服务',\n",
       " '移动互联网',\n",
       " '社交网络',\n",
       " '电子商务',\n",
       " '企业服务',\n",
       " '医疗健康',\n",
       " '信息安全',\n",
       " '移动互联网',\n",
       " '金融',\n",
       " '移动互联网',\n",
       " '硬件',\n",
       " '电子商务',\n",
       " '数据服务',\n",
       " '移动互联网',\n",
       " '数据服务',\n",
       " '数据服务',\n",
       " '其他',\n",
       " '金融',\n",
       " '移动互联网',\n",
       " '金融',\n",
       " '医疗健康',\n",
       " '信息安全',\n",
       " '金融',\n",
       " '其他',\n",
       " '游戏',\n",
       " '移动互联网',\n",
       " '移动互联网',\n",
       " '移动互联网',\n",
       " 'O2O',\n",
       " '移动互联网',\n",
       " '电子商务',\n",
       " '移动互联网',\n",
       " '移动互联网',\n",
       " '数据服务',\n",
       " '游戏',\n",
       " '电子商务',\n",
       " '数据服务',\n",
       " '移动互联网',\n",
       " 'O2O',\n",
       " '金融',\n",
       " '移动互联网',\n",
       " '电子商务',\n",
       " '金融',\n",
       " '企业服务',\n",
       " '数据服务',\n",
       " '移动互联网',\n",
       " '教育',\n",
       " '移动互联网',\n",
       " '医疗健康',\n",
       " '数据服务',\n",
       " '移动互联网',\n",
       " '游戏',\n",
       " '医疗健康',\n",
       " '游戏',\n",
       " '移动互联网',\n",
       " '医疗健康',\n",
       " '数据服务',\n",
       " '金融',\n",
       " '电子商务',\n",
       " 'O2O',\n",
       " '移动互联网',\n",
       " '招聘',\n",
       " '生活服务',\n",
       " '金融',\n",
       " '数据服务',\n",
       " '企业服务',\n",
       " '数据服务',\n",
       " '信息安全',\n",
       " '移动互联网',\n",
       " '游戏',\n",
       " '企业服务',\n",
       " '企业服务',\n",
       " '数据服务',\n",
       " '游戏',\n",
       " '金融',\n",
       " '金融',\n",
       " '数据服务',\n",
       " '移动互联网',\n",
       " '教育',\n",
       " '其他',\n",
       " '移动互联网',\n",
       " '生活服务',\n",
       " '移动互联网',\n",
       " '金融',\n",
       " '移动互联网',\n",
       " '其他',\n",
       " '信息安全',\n",
       " '数据服务',\n",
       " '人工智能',\n",
       " '数据服务',\n",
       " '数据服务',\n",
       " '企业服务',\n",
       " '金融',\n",
       " '金融',\n",
       " '移动互联网',\n",
       " '电子商务',\n",
       " '移动互联网',\n",
       " '数据服务',\n",
       " '数据服务',\n",
       " '企业服务',\n",
       " '其他',\n",
       " '企业服务',\n",
       " '电子商务',\n",
       " 'O2O',\n",
       " '金融',\n",
       " '移动互联网',\n",
       " '企业服务',\n",
       " '移动互联网',\n",
       " '金融',\n",
       " '数据服务',\n",
       " '移动互联网',\n",
       " '生活服务',\n",
       " '数据服务',\n",
       " '电子商务',\n",
       " '其他',\n",
       " '移动互联网',\n",
       " '企业服务',\n",
       " '移动互联网',\n",
       " '电子商务',\n",
       " '电子商务',\n",
       " '企业服务',\n",
       " '移动互联网',\n",
       " '电子商务',\n",
       " '移动互联网',\n",
       " '金融',\n",
       " '电子商务',\n",
       " 'O2O',\n",
       " '数据服务',\n",
       " '移动互联网',\n",
       " '电子商务',\n",
       " '数据服务',\n",
       " '金融',\n",
       " 'O2O',\n",
       " '移动互联网',\n",
       " '数据服务',\n",
       " '金融',\n",
       " '移动互联网',\n",
       " '移动互联网',\n",
       " '数据服务',\n",
       " '移动互联网',\n",
       " '电子商务',\n",
       " '移动互联网',\n",
       " '金融',\n",
       " '移动互联网',\n",
       " '数据服务',\n",
       " '移动互联网',\n",
       " '医疗健康',\n",
       " '电子商务',\n",
       " '硬件',\n",
       " '信息安全',\n",
       " '金融',\n",
       " '移动互联网',\n",
       " '移动互联网',\n",
       " '电子商务',\n",
       " '企业服务',\n",
       " '数据服务',\n",
       " '移动互联网',\n",
       " '电子商务',\n",
       " '金融',\n",
       " '数据服务',\n",
       " '人工智能',\n",
       " '移动互联网',\n",
       " '硬件',\n",
       " '移动互联网',\n",
       " '数据服务',\n",
       " '移动互联网',\n",
       " '移动互联网',\n",
       " '教育',\n",
       " '移动互联网',\n",
       " '数据服务',\n",
       " '数据服务',\n",
       " '移动互联网',\n",
       " '电子商务',\n",
       " '移动互联网',\n",
       " '电子商务',\n",
       " '移动互联网',\n",
       " '数据服务',\n",
       " '信息安全',\n",
       " '其他',\n",
       " '电子商务',\n",
       " '数据服务',\n",
       " '移动互联网',\n",
       " '硬件',\n",
       " '移动互联网',\n",
       " '企业服务',\n",
       " '其他',\n",
       " '移动互联网',\n",
       " 'O2O',\n",
       " '移动互联网',\n",
       " '医疗健康',\n",
       " '移动互联网',\n",
       " '教育',\n",
       " '企业服务',\n",
       " '移动互联网',\n",
       " '信息安全',\n",
       " '电子商务',\n",
       " 'O2O',\n",
       " '电子商务',\n",
       " '教育',\n",
       " '移动互联网',\n",
       " '数据服务',\n",
       " '移动互联网',\n",
       " '企业服务',\n",
       " '移动互联网',\n",
       " '游戏',\n",
       " '数据服务',\n",
       " '教育',\n",
       " '数据服务',\n",
       " '数据服务',\n",
       " '电子商务',\n",
       " '金融',\n",
       " '其他',\n",
       " '电子商务',\n",
       " '移动互联网',\n",
       " '移动互联网',\n",
       " '生活服务',\n",
       " '移动互联网',\n",
       " '数据服务',\n",
       " '电子商务',\n",
       " 'O2O',\n",
       " '移动互联网',\n",
       " '数据服务',\n",
       " '数据服务',\n",
       " '数据服务',\n",
       " '人工智能',\n",
       " '金融',\n",
       " '电子商务',\n",
       " '移动互联网',\n",
       " '电子商务',\n",
       " '移动互联网',\n",
       " '其他',\n",
       " '移动互联网',\n",
       " '移动互联网',\n",
       " '金融',\n",
       " '移动互联网',\n",
       " '移动互联网',\n",
       " '企业服务',\n",
       " '移动互联网',\n",
       " '金融',\n",
       " '企业服务',\n",
       " '移动互联网',\n",
       " '电子商务',\n",
       " '移动互联网',\n",
       " '电子商务',\n",
       " '移动互联网',\n",
       " '数据服务',\n",
       " '教育',\n",
       " '其他',\n",
       " '信息安全',\n",
       " '移动互联网',\n",
       " '信息安全',\n",
       " '移动互联网',\n",
       " 'O2O',\n",
       " '其他',\n",
       " '移动互联网',\n",
       " '数据服务',\n",
       " '移动互联网',\n",
       " '医疗健康',\n",
       " '医疗健康',\n",
       " '信息安全',\n",
       " '金融',\n",
       " '数据服务',\n",
       " '移动互联网',\n",
       " '电子商务',\n",
       " '移动互联网',\n",
       " '其他',\n",
       " '数据服务',\n",
       " '数据服务',\n",
       " '信息安全',\n",
       " '电子商务',\n",
       " '数据服务',\n",
       " '移动互联网',\n",
       " '金融',\n",
       " '移动互联网',\n",
       " '游戏',\n",
       " '移动互联网',\n",
       " '数据服务',\n",
       " '移动互联网',\n",
       " '社交网络',\n",
       " '企业服务',\n",
       " '电子商务',\n",
       " '移动互联网',\n",
       " '金融',\n",
       " '医疗健康',\n",
       " '移动互联网',\n",
       " '金融',\n",
       " '数据服务',\n",
       " '企业服务',\n",
       " '移动互联网',\n",
       " '社交网络',\n",
       " '数据服务',\n",
       " '移动互联网',\n",
       " '广告营销',\n",
       " '教育',\n",
       " '数据服务',\n",
       " '游戏',\n",
       " '移动互联网',\n",
       " '移动互联网',\n",
       " '其他',\n",
       " '数据服务',\n",
       " '数据服务',\n",
       " '人工智能',\n",
       " '金融',\n",
       " '移动互联网',\n",
       " '数据服务',\n",
       " '教育',\n",
       " '医疗健康',\n",
       " 'O2O',\n",
       " '移动互联网',\n",
       " '金融',\n",
       " '其他',\n",
       " '移动互联网',\n",
       " '社交网络',\n",
       " '移动互联网',\n",
       " '电子商务',\n",
       " '移动互联网',\n",
       " '移动互联网',\n",
       " '生活服务',\n",
       " '移动互联网',\n",
       " '其他',\n",
       " '移动互联网',\n",
       " '社交网络',\n",
       " '金融',\n",
       " '移动互联网',\n",
       " '社交网络',\n",
       " '移动互联网',\n",
       " '数据服务',\n",
       " '医疗健康',\n",
       " '数据服务',\n",
       " '游戏',\n",
       " 'O2O',\n",
       " '其他',\n",
       " '金融',\n",
       " '移动互联网',\n",
       " '电子商务',\n",
       " '数据服务',\n",
       " '电子商务',\n",
       " '其他',\n",
       " '移动互联网',\n",
       " '游戏',\n",
       " '移动互联网',\n",
       " '硬件',\n",
       " '移动互联网',\n",
       " '移动互联网',\n",
       " 'O2O',\n",
       " '金融',\n",
       " '移动互联网',\n",
       " '金融',\n",
       " '移动互联网',\n",
       " '电子商务',\n",
       " '企业服务',\n",
       " '信息安全',\n",
       " '金融',\n",
       " '人工智能',\n",
       " 'O2O',\n",
       " '数据服务',\n",
       " '移动互联网',\n",
       " 'O2O',\n",
       " '金融',\n",
       " '移动互联网',\n",
       " '其他',\n",
       " '移动互联网',\n",
       " '文化娱乐',\n",
       " '移动互联网',\n",
       " '数据服务',\n",
       " '硬件',\n",
       " '硬件',\n",
       " '其他',\n",
       " '金融',\n",
       " '数据服务',\n",
       " '移动互联网',\n",
       " '硬件',\n",
       " 'O2O',\n",
       " '电子商务',\n",
       " '移动互联网',\n",
       " '金融',\n",
       " '数据服务',\n",
       " '其他',\n",
       " '数据服务',\n",
       " '移动互联网',\n",
       " '金融',\n",
       " '移动互联网',\n",
       " '数据服务',\n",
       " '移动互联网',\n",
       " '数据服务',\n",
       " '数据服务',\n",
       " '移动互联网',\n",
       " '其他',\n",
       " '移动互联网',\n",
       " '数据服务',\n",
       " '数据服务',\n",
       " '金融',\n",
       " '数据服务',\n",
       " '移动互联网',\n",
       " '数据服务',\n",
       " '医疗健康',\n",
       " '数据服务',\n",
       " '移动互联网',\n",
       " '硬件',\n",
       " '信息安全',\n",
       " '其他',\n",
       " '移动互联网',\n",
       " '游戏',\n",
       " '移动互联网',\n",
       " '移动互联网',\n",
       " '移动互联网',\n",
       " '其他',\n",
       " '数据服务',\n",
       " '数据服务',\n",
       " '数据服务',\n",
       " '移动互联网',\n",
       " '游戏',\n",
       " '移动互联网',\n",
       " '企业服务',\n",
       " '金融',\n",
       " '数据服务',\n",
       " '移动互联网',\n",
       " '游戏',\n",
       " '金融',\n",
       " '金融',\n",
       " '金融',\n",
       " '企业服务',\n",
       " '数据服务',\n",
       " '电子商务',\n",
       " 'O2O',\n",
       " '信息安全',\n",
       " '移动互联网',\n",
       " '电子商务',\n",
       " '信息安全',\n",
       " '信息安全',\n",
       " '电子商务',\n",
       " 'O2O',\n",
       " '移动互联网',\n",
       " '电子商务',\n",
       " '电子商务',\n",
       " 'O2O',\n",
       " '移动互联网',\n",
       " '电子商务',\n",
       " '电子商务',\n",
       " 'O2O',\n",
       " '电子商务',\n",
       " 'O2O',\n",
       " '移动互联网',\n",
       " '医疗健康']"
      ]
     },
     "execution_count": 134,
     "metadata": {},
     "output_type": "execute_result"
    }
   ],
   "source": [
    "indu_list4 "
   ]
  },
  {
   "cell_type": "code",
   "execution_count": 136,
   "metadata": {
    "collapsed": true
   },
   "outputs": [],
   "source": [
    "indu_list5 = pd.Series(indu_list4)"
   ]
  },
  {
   "cell_type": "code",
   "execution_count": 137,
   "metadata": {},
   "outputs": [
    {
     "data": {
      "text/plain": [
       "移动互联网    147\n",
       "数据服务      85\n",
       "电子商务      55\n",
       "金融        52\n",
       "其他        29\n",
       "企业服务      29\n",
       "O2O       22\n",
       "信息安全      17\n",
       "医疗健康      16\n",
       "游戏        14\n",
       "硬件        12\n",
       "教育        10\n",
       "社交网络       6\n",
       "人工智能       5\n",
       "生活服务       5\n",
       "招聘         1\n",
       "文化娱乐       1\n",
       "广告营销       1\n",
       "dtype: int64"
      ]
     },
     "execution_count": 137,
     "metadata": {},
     "output_type": "execute_result"
    }
   ],
   "source": [
    "indu_list5.value_counts()"
   ]
  },
  {
   "cell_type": "code",
   "execution_count": 138,
   "metadata": {
    "collapsed": true
   },
   "outputs": [],
   "source": [
    "df_industry = indu_list5.value_counts()"
   ]
  },
  {
   "cell_type": "markdown",
   "metadata": {},
   "source": [
    "平均薪资"
   ]
  },
  {
   "cell_type": "code",
   "execution_count": 140,
   "metadata": {
    "collapsed": true
   },
   "outputs": [],
   "source": [
    "# 顶薪\n",
    "def cut_top(word):\n",
    "    position = word.find('-')   # find函数，当返回值不是括号的里的值时，返回-1\n",
    "    lenth = len(word)\n",
    "    if position != -1:\n",
    "        bottomsalary = word[:position-1]  # posotion-1 不包含 position-1 对应的值\n",
    "        topsalary = word[position+1:lenth-1]\n",
    "    else:\n",
    "        bottomsalary = word[:word.upper().find('K')]\n",
    "        topsalary = bottomsalary\n",
    "    return topsalary"
   ]
  },
  {
   "cell_type": "code",
   "execution_count": 141,
   "metadata": {
    "collapsed": true
   },
   "outputs": [],
   "source": [
    "df['top_salary'] = df['薪资'].apply(cut_top)"
   ]
  },
  {
   "cell_type": "code",
   "execution_count": 142,
   "metadata": {},
   "outputs": [
    {
     "data": {
      "text/plain": [
       "0    25\n",
       "1    25\n",
       "2    15\n",
       "3    25\n",
       "4    30\n",
       "Name: top_salary, dtype: object"
      ]
     },
     "execution_count": 142,
     "metadata": {},
     "output_type": "execute_result"
    }
   ],
   "source": [
    "df['top_salary'].head()"
   ]
  },
  {
   "cell_type": "code",
   "execution_count": 143,
   "metadata": {
    "collapsed": true
   },
   "outputs": [],
   "source": [
    "#  底薪  \n",
    "def cut_bottom(word):\n",
    "    position = word.find('-')   # find函数，当返回值不是括号的里的值时，返回-1\n",
    "    lenth = len(word)\n",
    "    if position != -1:\n",
    "        bottomsalary = word[:position-1]  # posotion-1 不包含 position-1 对应的值\n",
    "        topsalary = word[position+1:lenth-1]\n",
    "    else:\n",
    "        bottomsalary = word[:word.upper().find('K')]\n",
    "        topsalary = bottomsalary\n",
    "    return bottomsalary"
   ]
  },
  {
   "cell_type": "code",
   "execution_count": 144,
   "metadata": {
    "collapsed": true
   },
   "outputs": [],
   "source": [
    "df['bottom_salary'] = df['薪资'].apply(cut_bottom)"
   ]
  },
  {
   "cell_type": "code",
   "execution_count": 145,
   "metadata": {},
   "outputs": [
    {
     "data": {
      "text/plain": [
       "0    13\n",
       "1    15\n",
       "2     9\n",
       "3    15\n",
       "4    15\n",
       "Name: bottom_salary, dtype: object"
      ]
     },
     "execution_count": 145,
     "metadata": {},
     "output_type": "execute_result"
    }
   ],
   "source": [
    "df['bottom_salary'].head()"
   ]
  },
  {
   "cell_type": "code",
   "execution_count": 146,
   "metadata": {
    "collapsed": true
   },
   "outputs": [],
   "source": [
    "# 平均薪资\n",
    "df['top_salary'] = df.top_salary.astype('int')\n",
    "df['bottom_salary'] = df.bottom_salary.astype('int')\n",
    "df['avg_salary'] = df.apply(lambda x :(x.top_salary+x.bottom_salary)/2, axis = 1)"
   ]
  },
  {
   "cell_type": "code",
   "execution_count": 147,
   "metadata": {},
   "outputs": [
    {
     "data": {
      "text/html": [
       "<div>\n",
       "<style>\n",
       "    .dataframe thead tr:only-child th {\n",
       "        text-align: right;\n",
       "    }\n",
       "\n",
       "    .dataframe thead th {\n",
       "        text-align: left;\n",
       "    }\n",
       "\n",
       "    .dataframe tbody tr th {\n",
       "        vertical-align: top;\n",
       "    }\n",
       "</style>\n",
       "<table border=\"1\" class=\"dataframe\">\n",
       "  <thead>\n",
       "    <tr style=\"text-align: right;\">\n",
       "      <th></th>\n",
       "      <th>职位</th>\n",
       "      <th>区域</th>\n",
       "      <th>公司</th>\n",
       "      <th>薪资</th>\n",
       "      <th>工作经验</th>\n",
       "      <th>企业规模</th>\n",
       "      <th>企业福利</th>\n",
       "      <th>职位关键词1</th>\n",
       "      <th>职位关键词2</th>\n",
       "      <th>职位关键词3</th>\n",
       "      <th>职位关键词4</th>\n",
       "      <th>职位关键词5</th>\n",
       "      <th>职位关键词6</th>\n",
       "      <th>area</th>\n",
       "      <th>degree</th>\n",
       "      <th>experience</th>\n",
       "      <th>industry_all</th>\n",
       "      <th>top_salary</th>\n",
       "      <th>bottom_salary</th>\n",
       "      <th>avg_salary</th>\n",
       "    </tr>\n",
       "  </thead>\n",
       "  <tbody>\n",
       "    <tr>\n",
       "      <th>0</th>\n",
       "      <td>全国大客户销售总监，金数据(成都)</td>\n",
       "      <td>武侯区</td>\n",
       "      <td>AdMaster</td>\n",
       "      <td>13k-25k</td>\n",
       "      <td>13k-25k                        经验5-10年 / 大专</td>\n",
       "      <td>数据服务 / 不需要融资 / 500-2000人</td>\n",
       "      <td>“发展前景好；福利待遇好”</td>\n",
       "      <td>企业服务</td>\n",
       "      <td>工具软件</td>\n",
       "      <td>大客户代表</td>\n",
       "      <td>目标管理</td>\n",
       "      <td>NaN</td>\n",
       "      <td>NaN</td>\n",
       "      <td>武侯区</td>\n",
       "      <td>大专</td>\n",
       "      <td>5-10年</td>\n",
       "      <td>数据服务</td>\n",
       "      <td>25</td>\n",
       "      <td>13</td>\n",
       "      <td>19.0</td>\n",
       "    </tr>\n",
       "  </tbody>\n",
       "</table>\n",
       "</div>"
      ],
      "text/plain": [
       "                  职位   区域        公司       薪资  \\\n",
       "0  全国大客户销售总监，金数据(成都)  武侯区  AdMaster  13k-25k   \n",
       "\n",
       "                                          工作经验                      企业规模  \\\n",
       "0  13k-25k                        经验5-10年 / 大专  数据服务 / 不需要融资 / 500-2000人   \n",
       "\n",
       "            企业福利 职位关键词1 职位关键词2 职位关键词3 职位关键词4 职位关键词5 职位关键词6 area degree  \\\n",
       "0  “发展前景好；福利待遇好”   企业服务   工具软件  大客户代表   目标管理    NaN    NaN  武侯区     大专   \n",
       "\n",
       "  experience industry_all  top_salary  bottom_salary  avg_salary  \n",
       "0      5-10年        数据服务           25             13        19.0  "
      ]
     },
     "execution_count": 147,
     "metadata": {},
     "output_type": "execute_result"
    }
   ],
   "source": [
    "df.head(1)"
   ]
  },
  {
   "cell_type": "markdown",
   "metadata": {},
   "source": [
    "各地区的相关招聘数量"
   ]
  },
  {
   "cell_type": "code",
   "execution_count": 148,
   "metadata": {},
   "outputs": [
    {
     "data": {
      "image/png": "[encoded data removed]",
      "text/plain": [
       "<matplotlib.figure.Figure at 0x1c454157e80>"
      ]
     },
     "metadata": {},
     "output_type": "display_data"
    }
   ],
   "source": [
    "plt.rcParams['font.sans-serif']=['SimHei']\n",
    "plt.rcParams['axes.unicode_minus'] = False #中文输出\n",
    "df_area = df['area'].value_counts()\n",
    "df_area.plot.bar()\n",
    "plt.xlabel('区域', fontsize = 15)\n",
    "plt.ylabel('职位数量', fontsize = 15)\n",
    "plt.title('成都市各区域的招聘数量', fontsize = 20)\n",
    "plt.show()"
   ]
  },
  {
   "cell_type": "markdown",
   "metadata": {},
   "source": [
    "各地区的平均薪资"
   ]
  },
  {
   "cell_type": "code",
   "execution_count": 149,
   "metadata": {},
   "outputs": [
    {
     "data": {
      "image/png": "[encoded data removed]",
      "text/plain": [
       "<matplotlib.figure.Figure at 0x1c4561dcb70>"
      ]
     },
     "metadata": {},
     "output_type": "display_data"
    }
   ],
   "source": [
    "df_avg_salary = df.groupby('area').avg_salary.agg(['mean']).sort_values(by = 'mean', ascending = False)\n",
    "df_avg_salary.plot.bar()\n",
    "plt.xlabel('区域', fontsize = 15)\n",
    "plt.ylabel('平均薪水', fontsize = 15)\n",
    "plt.title('成都市各区域的平均薪水', fontsize = 20)\n",
    "plt.show()"
   ]
  },
  {
   "cell_type": "markdown",
   "metadata": {},
   "source": [
    "学历的平均薪水"
   ]
  },
  {
   "cell_type": "code",
   "execution_count": 150,
   "metadata": {},
   "outputs": [
    {
     "data": {
      "image/png": "[encoded data removed]",
      "text/plain": [
       "<matplotlib.figure.Figure at 0x1c45415abe0>"
      ]
     },
     "metadata": {},
     "output_type": "display_data"
    }
   ],
   "source": [
    "df_degree = df.groupby('degree').avg_salary.agg(['mean']).sort_values(by = 'mean', ascending = False)\n",
    "df_degree.plot.bar()\n",
    "plt.xlabel('学历', fontsize = 15)\n",
    "plt.ylabel('平均薪水', fontsize = 15)\n",
    "plt.title('各学历平均薪水', fontsize = 20)\n",
    "plt.show()"
   ]
  },
  {
   "cell_type": "markdown",
   "metadata": {},
   "source": [
    "不同学历的平均薪水"
   ]
  },
  {
   "cell_type": "code",
   "execution_count": 151,
   "metadata": {},
   "outputs": [
    {
     "data": {
      "image/png": "[encoded data removed]",
      "text/plain": [
       "<matplotlib.figure.Figure at 0x1c45415a0b8>"
      ]
     },
     "metadata": {},
     "output_type": "display_data"
    }
   ],
   "source": [
    "df_experience = df.groupby('experience').avg_salary.agg(['mean']).sort_values(by = 'mean', ascending =  False)\n",
    "df_experience.plot.bar()\n",
    "plt.xlabel('工作经历', fontsize = 15)\n",
    "plt.ylabel('平均薪水', fontsize = 15)\n",
    "plt.title('各工作经历平均薪水', fontsize = 20)\n",
    "plt.show()"
   ]
  },
  {
   "cell_type": "markdown",
   "metadata": {},
   "source": [
    "招聘薪资前10的公司"
   ]
  },
  {
   "cell_type": "code",
   "execution_count": 160,
   "metadata": {},
   "outputs": [
    {
     "data": {
      "text/html": [
       "<div>\n",
       "<style>\n",
       "    .dataframe thead tr:only-child th {\n",
       "        text-align: right;\n",
       "    }\n",
       "\n",
       "    .dataframe thead th {\n",
       "        text-align: left;\n",
       "    }\n",
       "\n",
       "    .dataframe tbody tr th {\n",
       "        vertical-align: top;\n",
       "    }\n",
       "</style>\n",
       "<table border=\"1\" class=\"dataframe\">\n",
       "  <thead>\n",
       "    <tr style=\"text-align: right;\">\n",
       "      <th></th>\n",
       "      <th>mean</th>\n",
       "      <th>count</th>\n",
       "    </tr>\n",
       "    <tr>\n",
       "      <th>公司</th>\n",
       "      <th></th>\n",
       "      <th></th>\n",
       "    </tr>\n",
       "  </thead>\n",
       "  <tbody>\n",
       "    <tr>\n",
       "      <th>多点Dmall</th>\n",
       "      <td>21.722222</td>\n",
       "      <td>9</td>\n",
       "    </tr>\n",
       "    <tr>\n",
       "      <th>货车帮</th>\n",
       "      <td>21.071429</td>\n",
       "      <td>7</td>\n",
       "    </tr>\n",
       "    <tr>\n",
       "      <th>有利网</th>\n",
       "      <td>14.714286</td>\n",
       "      <td>7</td>\n",
       "    </tr>\n",
       "    <tr>\n",
       "      <th>知道创宇</th>\n",
       "      <td>14.928571</td>\n",
       "      <td>7</td>\n",
       "    </tr>\n",
       "    <tr>\n",
       "      <th>成都启迪</th>\n",
       "      <td>7.700000</td>\n",
       "      <td>5</td>\n",
       "    </tr>\n",
       "    <tr>\n",
       "      <th>BBD</th>\n",
       "      <td>14.900000</td>\n",
       "      <td>5</td>\n",
       "    </tr>\n",
       "    <tr>\n",
       "      <th>国研网</th>\n",
       "      <td>12.000000</td>\n",
       "      <td>5</td>\n",
       "    </tr>\n",
       "    <tr>\n",
       "      <th>四川长虹电器股份有限公司</th>\n",
       "      <td>15.875000</td>\n",
       "      <td>4</td>\n",
       "    </tr>\n",
       "    <tr>\n",
       "      <th>希望金科</th>\n",
       "      <td>21.000000</td>\n",
       "      <td>4</td>\n",
       "    </tr>\n",
       "    <tr>\n",
       "      <th>封面新闻</th>\n",
       "      <td>14.500000</td>\n",
       "      <td>4</td>\n",
       "    </tr>\n",
       "  </tbody>\n",
       "</table>\n",
       "</div>"
      ],
      "text/plain": [
       "                   mean  count\n",
       "公司                            \n",
       "多点Dmall       21.722222      9\n",
       "货车帮           21.071429      7\n",
       "有利网           14.714286      7\n",
       "知道创宇          14.928571      7\n",
       "成都启迪           7.700000      5\n",
       "BBD           14.900000      5\n",
       "国研网           12.000000      5\n",
       "四川长虹电器股份有限公司  15.875000      4\n",
       "希望金科          21.000000      4\n",
       "封面新闻          14.500000      4"
      ]
     },
     "execution_count": 160,
     "metadata": {},
     "output_type": "execute_result"
    }
   ],
   "source": [
    "df.groupby('公司').avg_salary.agg(['mean','count']).sort_values(by = 'count', ascending = False).head(10)"
   ]
  },
  {
   "cell_type": "code",
   "execution_count": 161,
   "metadata": {},
   "outputs": [
    {
     "data": {
      "image/png": "[encoded data removed]",
      "text/plain": [
       "<matplotlib.figure.Figure at 0x1c456474f28>"
      ]
     },
     "metadata": {},
     "output_type": "display_data"
    }
   ],
   "source": [
    "df_company = df.groupby('公司').avg_salary.agg(['mean']).sort_values(by = 'mean', ascending = False).head(10)\n",
    "df_company.plot.bar()\n",
    "plt.xlabel('公司', fontsize = 15)\n",
    "plt.ylabel('平均薪水', fontsize = 15)\n",
    "plt.title('各公司平均薪水', fontsize = 20)\n",
    "plt.show()"
   ]
  },
  {
   "cell_type": "markdown",
   "metadata": {},
   "source": [
    "分桶分析-各区域不同薪资的比例"
   ]
  },
  {
   "cell_type": "code",
   "execution_count": 163,
   "metadata": {},
   "outputs": [
    {
     "data": {
      "text/html": [
       "<div>\n",
       "<style>\n",
       "    .dataframe thead tr:only-child th {\n",
       "        text-align: right;\n",
       "    }\n",
       "\n",
       "    .dataframe thead th {\n",
       "        text-align: left;\n",
       "    }\n",
       "\n",
       "    .dataframe tbody tr th {\n",
       "        vertical-align: top;\n",
       "    }\n",
       "</style>\n",
       "<table border=\"1\" class=\"dataframe\">\n",
       "  <thead>\n",
       "    <tr style=\"text-align: right;\">\n",
       "      <th></th>\n",
       "      <th>avg_salary</th>\n",
       "      <th>level</th>\n",
       "    </tr>\n",
       "  </thead>\n",
       "  <tbody>\n",
       "    <tr>\n",
       "      <th>0</th>\n",
       "      <td>19.0</td>\n",
       "      <td>15-20</td>\n",
       "    </tr>\n",
       "    <tr>\n",
       "      <th>1</th>\n",
       "      <td>20.0</td>\n",
       "      <td>15-20</td>\n",
       "    </tr>\n",
       "    <tr>\n",
       "      <th>2</th>\n",
       "      <td>12.0</td>\n",
       "      <td>10-15</td>\n",
       "    </tr>\n",
       "    <tr>\n",
       "      <th>3</th>\n",
       "      <td>20.0</td>\n",
       "      <td>15-20</td>\n",
       "    </tr>\n",
       "    <tr>\n",
       "      <th>4</th>\n",
       "      <td>22.5</td>\n",
       "      <td>20-30</td>\n",
       "    </tr>\n",
       "  </tbody>\n",
       "</table>\n",
       "</div>"
      ],
      "text/plain": [
       "   avg_salary  level\n",
       "0        19.0  15-20\n",
       "1        20.0  15-20\n",
       "2        12.0  10-15\n",
       "3        20.0  15-20\n",
       "4        22.5  20-30"
      ]
     },
     "execution_count": 163,
     "metadata": {},
     "output_type": "execute_result"
    }
   ],
   "source": [
    "bins = [0,3,5,10,15,20,30,100]\n",
    "level = ['0-3', '3-5', '5-10', '10-15', '15-20', '20-30', '30+']\n",
    "df['level'] = pd.cut(df['avg_salary'], bins = bins, labels = level)\n",
    "df[['avg_salary', 'level']].head()   # 为什么必须两个中括号？？？"
   ]
  },
  {
   "cell_type": "code",
   "execution_count": 164,
   "metadata": {},
   "outputs": [
    {
     "data": {
      "image/png": "[encoded data removed]",
      "text/plain": [
       "<matplotlib.figure.Figure at 0x1c456474b70>"
      ]
     },
     "metadata": {},
     "output_type": "display_data"
    }
   ],
   "source": [
    "df_level = df.groupby(['area','level']).avg_salary.count().unstack()\n",
    "df_level_prop = df_level.apply(lambda x: x/x.sum(), axis = 1)\n",
    "df_level_prop.plot.bar(stacked = True, figsize = (14,6))\n",
    "plt.show()"
   ]
  },
  {
   "cell_type": "markdown",
   "metadata": {},
   "source": [
    "分桶分析-不同学历的不同薪资比例"
   ]
  },
  {
   "cell_type": "code",
   "execution_count": 165,
   "metadata": {},
   "outputs": [
    {
     "data": {
      "text/html": [
       "<div>\n",
       "<style>\n",
       "    .dataframe thead tr:only-child th {\n",
       "        text-align: right;\n",
       "    }\n",
       "\n",
       "    .dataframe thead th {\n",
       "        text-align: left;\n",
       "    }\n",
       "\n",
       "    .dataframe tbody tr th {\n",
       "        vertical-align: top;\n",
       "    }\n",
       "</style>\n",
       "<table border=\"1\" class=\"dataframe\">\n",
       "  <thead>\n",
       "    <tr style=\"text-align: right;\">\n",
       "      <th></th>\n",
       "      <th>degree</th>\n",
       "      <th>level</th>\n",
       "    </tr>\n",
       "  </thead>\n",
       "  <tbody>\n",
       "    <tr>\n",
       "      <th>0</th>\n",
       "      <td>大专</td>\n",
       "      <td>15-20</td>\n",
       "    </tr>\n",
       "    <tr>\n",
       "      <th>1</th>\n",
       "      <td>本科</td>\n",
       "      <td>15-20</td>\n",
       "    </tr>\n",
       "    <tr>\n",
       "      <th>2</th>\n",
       "      <td>本科</td>\n",
       "      <td>10-15</td>\n",
       "    </tr>\n",
       "    <tr>\n",
       "      <th>3</th>\n",
       "      <td>本科</td>\n",
       "      <td>15-20</td>\n",
       "    </tr>\n",
       "    <tr>\n",
       "      <th>4</th>\n",
       "      <td>硕士</td>\n",
       "      <td>20-30</td>\n",
       "    </tr>\n",
       "  </tbody>\n",
       "</table>\n",
       "</div>"
      ],
      "text/plain": [
       "  degree  level\n",
       "0     大专  15-20\n",
       "1     本科  15-20\n",
       "2     本科  10-15\n",
       "3     本科  15-20\n",
       "4     硕士  20-30"
      ]
     },
     "execution_count": 165,
     "metadata": {},
     "output_type": "execute_result"
    }
   ],
   "source": [
    "df[['degree','level']].head()"
   ]
  },
  {
   "cell_type": "code",
   "execution_count": 166,
   "metadata": {},
   "outputs": [
    {
     "data": {
      "image/png": "[encoded data removed]",
      "text/plain": [
       "<matplotlib.figure.Figure at 0x1c4565f5908>"
      ]
     },
     "metadata": {},
     "output_type": "display_data"
    }
   ],
   "source": [
    "df_degree_level = df.groupby(['degree','level']).avg_salary.count().unstack()\n",
    "df_level_prop = df_degree_level.apply(lambda x: x/x.sum(), axis = 1)\n",
    "df_level_prop.plot.bar(stacked = True, figsize = (14,6))\n",
    "plt.show()"
   ]
  },
  {
   "cell_type": "markdown",
   "metadata": {
    "collapsed": true
   },
   "source": [
    "分桶分析-不同工作经验的不同薪资比例"
   ]
  },
  {
   "cell_type": "code",
   "execution_count": 167,
   "metadata": {},
   "outputs": [
    {
     "data": {
      "image/png": "[encoded data removed]",
      "text/plain": [
       "<matplotlib.figure.Figure at 0x1c45640acf8>"
      ]
     },
     "metadata": {},
     "output_type": "display_data"
    }
   ],
   "source": [
    "df_experience_level = df.groupby(['experience','level']).avg_salary.count().unstack()\n",
    "df_level_prop = df_experience_level.apply(lambda x: x/x.sum(), axis = 1)\n",
    "df_level_prop.plot.bar(stacked = True, figsize = (14,6))\n",
    "plt.show()"
   ]
  },
  {
   "cell_type": "code",
   "execution_count": null,
   "metadata": {
    "collapsed": true
   },
   "outputs": [],
   "source": []
  },
  {
   "cell_type": "code",
   "execution_count": null,
   "metadata": {
    "collapsed": true
   },
   "outputs": [],
   "source": []
  },
  {
   "cell_type": "code",
   "execution_count": null,
   "metadata": {
    "collapsed": true
   },
   "outputs": [],
   "source": []
  }
 ],
 "metadata": {
  "kernelspec": {
   "display_name": "Python 3",
   "language": "python",
   "name": "python3"
  },
  "language_info": {
   "codemirror_mode": {
    "name": "ipython",
    "version": 3
   },
   "file_extension": ".py",
   "mimetype": "text/x-python",
   "name": "python",
   "nbconvert_exporter": "python",
   "pygments_lexer": "ipython3",
   "version": "3.6.3"
  }
 },
 "nbformat": 4,
 "nbformat_minor": 2
}
